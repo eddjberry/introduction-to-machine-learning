{
 "cells": [
  {
   "cell_type": "markdown",
   "metadata": {
    "nbpresent": {
     "id": "f77e2465-07f3-4ad0-ab0b-970cc19da161"
    }
   },
   "source": [
    "# <center> AN INTRODUCTION TO MACHINE LEARNING\n",
    "## <center> CSCAR WORKSHOP <br/><br/> 02/23/2018\n",
    "## <center> Marcio Mourao and Michael Clark"
   ]
  },
  {
   "cell_type": "markdown",
   "metadata": {
    "collapsed": true
   },
   "source": [
    "# <center> Setup for Anaconda / Jupyter Notebook\n",
    "\n",
    "<ul>\n",
    "    <li>Go to the page https://marcio-mourao.github.io/</li>\n",
    "    <li>Download the materials (first two docs) under \"\" to your \"username/Documents\"</li><br/>\n",
    "    \n",
    "    <li>Click the Windows button (Bottom Left Corner)</li>\n",
    "    <li>Click \"All apps\"</li>\n",
    "    <li>Click \"Anaconda3\"</li>\n",
    "    <li>Click \"Anaconda Prompt\" </li>\n",
    "    <ul>\n",
    "        <li>Enter \"conda update pandas\"</li>\n",
    "        <li>Enter \"conda update scikit-learn\"</li>\n",
    "    </ul><br/>\n",
    "    \n",
    "    <li>Click the Windows button (Bottom Left Corner)</li>\n",
    "    <li>Click \"All apps\"</li>\n",
    "    <li>Click \"Anaconda3\"</li>\n",
    "    <li>Click \"Jupyter Notebook\" </li>\n",
    "    <li>Click \"Workshop.ipynb\" (this should open a new tab in the browser)</li>\n",
    "</ul>"
   ]
  },
  {
   "cell_type": "markdown",
   "metadata": {},
   "source": [
    "# <center> References\n",
    "\n",
    "<ul>\n",
    "  <li>https://www.continuum.io/anaconda-overview</li>\n",
    "  <li>http://www.numpy.org/</li>\n",
    "  <li>http://pandas.pydata.org/pandas-docs/stable/generated/pandas.DataFrame.html</li>\n",
    "  <li>http://pandas.pydata.org/pandas-docs/stable/10min.html</li>\n",
    "  <li>http://matplotlib.org/</li>\n",
    "  <li>http://scikit-learn.org/stable/documentation.html</li>\n",
    "  <li>https://pypi.python.org/pypi/patsy</li>\n",
    "</ul>"
   ]
  },
  {
   "cell_type": "markdown",
   "metadata": {},
   "source": [
    "## <center> Import relevant general modules"
   ]
  },
  {
   "cell_type": "code",
   "execution_count": 1,
   "metadata": {
    "collapsed": true,
    "nbpresent": {
     "id": "56b6dfff-16a3-4ab8-b0cb-497226d0e34f"
    }
   },
   "outputs": [],
   "source": [
    "%matplotlib inline\n",
    "import numpy as np\n",
    "import pandas as pd\n",
    "import matplotlib.pyplot as plt"
   ]
  },
  {
   "cell_type": "code",
   "execution_count": 2,
   "metadata": {},
   "outputs": [
    {
     "name": "stdout",
     "output_type": "stream",
     "text": [
      "3.6.4 |Anaconda custom (64-bit)| (default, Jan 16 2018, 12:04:33) \n",
      "[GCC 4.2.1 Compatible Clang 4.0.1 (tags/RELEASE_401/final)]\n",
      "1.13.3\n",
      "0.22.0\n"
     ]
    }
   ],
   "source": [
    "import sys\n",
    "print(sys.version)\n",
    "print(np.__version__)\n",
    "print(pd.__version__)"
   ]
  },
  {
   "cell_type": "markdown",
   "metadata": {},
   "source": [
    "## Load and describe the data"
   ]
  },
  {
   "cell_type": "code",
   "execution_count": 3,
   "metadata": {
    "collapsed": true
   },
   "outputs": [],
   "source": [
    "choice_dataset = 0 # Index of choice for the dataset names below\n",
    "dataset_names = ['adult', 'wine'] # List of available datasets\n",
    "dv = ['income', 'good']"
   ]
  },
  {
   "cell_type": "code",
   "execution_count": 4,
   "metadata": {},
   "outputs": [
    {
     "data": {
      "text/html": [
       "<div>\n",
       "<style scoped>\n",
       "    .dataframe tbody tr th:only-of-type {\n",
       "        vertical-align: middle;\n",
       "    }\n",
       "\n",
       "    .dataframe tbody tr th {\n",
       "        vertical-align: top;\n",
       "    }\n",
       "\n",
       "    .dataframe thead th {\n",
       "        text-align: right;\n",
       "    }\n",
       "</style>\n",
       "<table border=\"1\" class=\"dataframe\">\n",
       "  <thead>\n",
       "    <tr style=\"text-align: right;\">\n",
       "      <th></th>\n",
       "      <th>age</th>\n",
       "      <th>workclass</th>\n",
       "      <th>fnlwgt</th>\n",
       "      <th>education</th>\n",
       "      <th>education.num</th>\n",
       "      <th>marital.status</th>\n",
       "      <th>occupation</th>\n",
       "      <th>relationship</th>\n",
       "      <th>race</th>\n",
       "      <th>sex</th>\n",
       "      <th>capital.gain</th>\n",
       "      <th>capital.loss</th>\n",
       "      <th>hours.per.week</th>\n",
       "      <th>native.country</th>\n",
       "      <th>income</th>\n",
       "    </tr>\n",
       "  </thead>\n",
       "  <tbody>\n",
       "    <tr>\n",
       "      <th>0</th>\n",
       "      <td>90</td>\n",
       "      <td>NaN</td>\n",
       "      <td>77053</td>\n",
       "      <td>HS-grad</td>\n",
       "      <td>9</td>\n",
       "      <td>Widowed</td>\n",
       "      <td>NaN</td>\n",
       "      <td>Not-in-family</td>\n",
       "      <td>White</td>\n",
       "      <td>Female</td>\n",
       "      <td>0</td>\n",
       "      <td>4356</td>\n",
       "      <td>40</td>\n",
       "      <td>United-States</td>\n",
       "      <td>&lt;=50K</td>\n",
       "    </tr>\n",
       "    <tr>\n",
       "      <th>1</th>\n",
       "      <td>82</td>\n",
       "      <td>Private</td>\n",
       "      <td>132870</td>\n",
       "      <td>HS-grad</td>\n",
       "      <td>9</td>\n",
       "      <td>Widowed</td>\n",
       "      <td>Exec-managerial</td>\n",
       "      <td>Not-in-family</td>\n",
       "      <td>White</td>\n",
       "      <td>Female</td>\n",
       "      <td>0</td>\n",
       "      <td>4356</td>\n",
       "      <td>18</td>\n",
       "      <td>United-States</td>\n",
       "      <td>&lt;=50K</td>\n",
       "    </tr>\n",
       "    <tr>\n",
       "      <th>2</th>\n",
       "      <td>66</td>\n",
       "      <td>NaN</td>\n",
       "      <td>186061</td>\n",
       "      <td>Some-college</td>\n",
       "      <td>10</td>\n",
       "      <td>Widowed</td>\n",
       "      <td>NaN</td>\n",
       "      <td>Unmarried</td>\n",
       "      <td>Black</td>\n",
       "      <td>Female</td>\n",
       "      <td>0</td>\n",
       "      <td>4356</td>\n",
       "      <td>40</td>\n",
       "      <td>United-States</td>\n",
       "      <td>&lt;=50K</td>\n",
       "    </tr>\n",
       "    <tr>\n",
       "      <th>3</th>\n",
       "      <td>54</td>\n",
       "      <td>Private</td>\n",
       "      <td>140359</td>\n",
       "      <td>7th-8th</td>\n",
       "      <td>4</td>\n",
       "      <td>Divorced</td>\n",
       "      <td>Machine-op-inspct</td>\n",
       "      <td>Unmarried</td>\n",
       "      <td>White</td>\n",
       "      <td>Female</td>\n",
       "      <td>0</td>\n",
       "      <td>3900</td>\n",
       "      <td>40</td>\n",
       "      <td>United-States</td>\n",
       "      <td>&lt;=50K</td>\n",
       "    </tr>\n",
       "    <tr>\n",
       "      <th>4</th>\n",
       "      <td>41</td>\n",
       "      <td>Private</td>\n",
       "      <td>264663</td>\n",
       "      <td>Some-college</td>\n",
       "      <td>10</td>\n",
       "      <td>Separated</td>\n",
       "      <td>Prof-specialty</td>\n",
       "      <td>Own-child</td>\n",
       "      <td>White</td>\n",
       "      <td>Female</td>\n",
       "      <td>0</td>\n",
       "      <td>3900</td>\n",
       "      <td>40</td>\n",
       "      <td>United-States</td>\n",
       "      <td>&lt;=50K</td>\n",
       "    </tr>\n",
       "  </tbody>\n",
       "</table>\n",
       "</div>"
      ],
      "text/plain": [
       "   age workclass  fnlwgt     education  education.num marital.status  \\\n",
       "0   90       NaN   77053       HS-grad              9        Widowed   \n",
       "1   82   Private  132870       HS-grad              9        Widowed   \n",
       "2   66       NaN  186061  Some-college             10        Widowed   \n",
       "3   54   Private  140359       7th-8th              4       Divorced   \n",
       "4   41   Private  264663  Some-college             10      Separated   \n",
       "\n",
       "          occupation   relationship   race     sex  capital.gain  \\\n",
       "0                NaN  Not-in-family  White  Female             0   \n",
       "1    Exec-managerial  Not-in-family  White  Female             0   \n",
       "2                NaN      Unmarried  Black  Female             0   \n",
       "3  Machine-op-inspct      Unmarried  White  Female             0   \n",
       "4     Prof-specialty      Own-child  White  Female             0   \n",
       "\n",
       "   capital.loss  hours.per.week native.country income  \n",
       "0          4356              40  United-States  <=50K  \n",
       "1          4356              18  United-States  <=50K  \n",
       "2          4356              40  United-States  <=50K  \n",
       "3          3900              40  United-States  <=50K  \n",
       "4          3900              40  United-States  <=50K  "
      ]
     },
     "execution_count": 4,
     "metadata": {},
     "output_type": "execute_result"
    }
   ],
   "source": [
    "#Creates a dataframe from the data in the file\n",
    "data_df = pd.read_csv('data/' + dataset_names[choice_dataset] + '.csv', na_values=['?'])\n",
    "data_df.head()"
   ]
  },
  {
   "cell_type": "code",
   "execution_count": 5,
   "metadata": {},
   "outputs": [
    {
     "data": {
      "text/plain": [
       "(32561, 15)"
      ]
     },
     "execution_count": 5,
     "metadata": {},
     "output_type": "execute_result"
    }
   ],
   "source": [
    "#Obtains the number of lines and columns of the dataframe\n",
    "data_df.shape"
   ]
  },
  {
   "cell_type": "code",
   "execution_count": 6,
   "metadata": {},
   "outputs": [
    {
     "data": {
      "text/plain": [
       "age                int64\n",
       "workclass         object\n",
       "fnlwgt             int64\n",
       "education         object\n",
       "education.num      int64\n",
       "marital.status    object\n",
       "occupation        object\n",
       "relationship      object\n",
       "race              object\n",
       "sex               object\n",
       "capital.gain       int64\n",
       "capital.loss       int64\n",
       "hours.per.week     int64\n",
       "native.country    object\n",
       "income            object\n",
       "dtype: object"
      ]
     },
     "execution_count": 6,
     "metadata": {},
     "output_type": "execute_result"
    }
   ],
   "source": [
    "#Obtains the dataframe main types\n",
    "data_df.dtypes"
   ]
  },
  {
   "cell_type": "code",
   "execution_count": 7,
   "metadata": {},
   "outputs": [
    {
     "data": {
      "text/html": [
       "<div>\n",
       "<style scoped>\n",
       "    .dataframe tbody tr th:only-of-type {\n",
       "        vertical-align: middle;\n",
       "    }\n",
       "\n",
       "    .dataframe tbody tr th {\n",
       "        vertical-align: top;\n",
       "    }\n",
       "\n",
       "    .dataframe thead th {\n",
       "        text-align: right;\n",
       "    }\n",
       "</style>\n",
       "<table border=\"1\" class=\"dataframe\">\n",
       "  <thead>\n",
       "    <tr style=\"text-align: right;\">\n",
       "      <th></th>\n",
       "      <th>age</th>\n",
       "      <th>workclass</th>\n",
       "      <th>fnlwgt</th>\n",
       "      <th>education</th>\n",
       "      <th>education.num</th>\n",
       "      <th>marital.status</th>\n",
       "      <th>occupation</th>\n",
       "      <th>relationship</th>\n",
       "      <th>race</th>\n",
       "      <th>sex</th>\n",
       "      <th>capital.gain</th>\n",
       "      <th>capital.loss</th>\n",
       "      <th>hours.per.week</th>\n",
       "      <th>native.country</th>\n",
       "      <th>income</th>\n",
       "    </tr>\n",
       "  </thead>\n",
       "  <tbody>\n",
       "    <tr>\n",
       "      <th>count</th>\n",
       "      <td>32561.000000</td>\n",
       "      <td>30725</td>\n",
       "      <td>3.256100e+04</td>\n",
       "      <td>32561</td>\n",
       "      <td>32561.000000</td>\n",
       "      <td>32561</td>\n",
       "      <td>30718</td>\n",
       "      <td>32561</td>\n",
       "      <td>32561</td>\n",
       "      <td>32561</td>\n",
       "      <td>32561.000000</td>\n",
       "      <td>32561.000000</td>\n",
       "      <td>32561.000000</td>\n",
       "      <td>31978</td>\n",
       "      <td>32561</td>\n",
       "    </tr>\n",
       "    <tr>\n",
       "      <th>unique</th>\n",
       "      <td>NaN</td>\n",
       "      <td>8</td>\n",
       "      <td>NaN</td>\n",
       "      <td>16</td>\n",
       "      <td>NaN</td>\n",
       "      <td>7</td>\n",
       "      <td>14</td>\n",
       "      <td>6</td>\n",
       "      <td>5</td>\n",
       "      <td>2</td>\n",
       "      <td>NaN</td>\n",
       "      <td>NaN</td>\n",
       "      <td>NaN</td>\n",
       "      <td>41</td>\n",
       "      <td>2</td>\n",
       "    </tr>\n",
       "    <tr>\n",
       "      <th>top</th>\n",
       "      <td>NaN</td>\n",
       "      <td>Private</td>\n",
       "      <td>NaN</td>\n",
       "      <td>HS-grad</td>\n",
       "      <td>NaN</td>\n",
       "      <td>Married-civ-spouse</td>\n",
       "      <td>Prof-specialty</td>\n",
       "      <td>Husband</td>\n",
       "      <td>White</td>\n",
       "      <td>Male</td>\n",
       "      <td>NaN</td>\n",
       "      <td>NaN</td>\n",
       "      <td>NaN</td>\n",
       "      <td>United-States</td>\n",
       "      <td>&lt;=50K</td>\n",
       "    </tr>\n",
       "    <tr>\n",
       "      <th>freq</th>\n",
       "      <td>NaN</td>\n",
       "      <td>22696</td>\n",
       "      <td>NaN</td>\n",
       "      <td>10501</td>\n",
       "      <td>NaN</td>\n",
       "      <td>14976</td>\n",
       "      <td>4140</td>\n",
       "      <td>13193</td>\n",
       "      <td>27816</td>\n",
       "      <td>21790</td>\n",
       "      <td>NaN</td>\n",
       "      <td>NaN</td>\n",
       "      <td>NaN</td>\n",
       "      <td>29170</td>\n",
       "      <td>24720</td>\n",
       "    </tr>\n",
       "    <tr>\n",
       "      <th>mean</th>\n",
       "      <td>38.581647</td>\n",
       "      <td>NaN</td>\n",
       "      <td>1.897784e+05</td>\n",
       "      <td>NaN</td>\n",
       "      <td>10.080679</td>\n",
       "      <td>NaN</td>\n",
       "      <td>NaN</td>\n",
       "      <td>NaN</td>\n",
       "      <td>NaN</td>\n",
       "      <td>NaN</td>\n",
       "      <td>1077.648844</td>\n",
       "      <td>87.303830</td>\n",
       "      <td>40.437456</td>\n",
       "      <td>NaN</td>\n",
       "      <td>NaN</td>\n",
       "    </tr>\n",
       "    <tr>\n",
       "      <th>std</th>\n",
       "      <td>13.640433</td>\n",
       "      <td>NaN</td>\n",
       "      <td>1.055500e+05</td>\n",
       "      <td>NaN</td>\n",
       "      <td>2.572720</td>\n",
       "      <td>NaN</td>\n",
       "      <td>NaN</td>\n",
       "      <td>NaN</td>\n",
       "      <td>NaN</td>\n",
       "      <td>NaN</td>\n",
       "      <td>7385.292085</td>\n",
       "      <td>402.960219</td>\n",
       "      <td>12.347429</td>\n",
       "      <td>NaN</td>\n",
       "      <td>NaN</td>\n",
       "    </tr>\n",
       "    <tr>\n",
       "      <th>min</th>\n",
       "      <td>17.000000</td>\n",
       "      <td>NaN</td>\n",
       "      <td>1.228500e+04</td>\n",
       "      <td>NaN</td>\n",
       "      <td>1.000000</td>\n",
       "      <td>NaN</td>\n",
       "      <td>NaN</td>\n",
       "      <td>NaN</td>\n",
       "      <td>NaN</td>\n",
       "      <td>NaN</td>\n",
       "      <td>0.000000</td>\n",
       "      <td>0.000000</td>\n",
       "      <td>1.000000</td>\n",
       "      <td>NaN</td>\n",
       "      <td>NaN</td>\n",
       "    </tr>\n",
       "    <tr>\n",
       "      <th>25%</th>\n",
       "      <td>28.000000</td>\n",
       "      <td>NaN</td>\n",
       "      <td>1.178270e+05</td>\n",
       "      <td>NaN</td>\n",
       "      <td>9.000000</td>\n",
       "      <td>NaN</td>\n",
       "      <td>NaN</td>\n",
       "      <td>NaN</td>\n",
       "      <td>NaN</td>\n",
       "      <td>NaN</td>\n",
       "      <td>0.000000</td>\n",
       "      <td>0.000000</td>\n",
       "      <td>40.000000</td>\n",
       "      <td>NaN</td>\n",
       "      <td>NaN</td>\n",
       "    </tr>\n",
       "    <tr>\n",
       "      <th>50%</th>\n",
       "      <td>37.000000</td>\n",
       "      <td>NaN</td>\n",
       "      <td>1.783560e+05</td>\n",
       "      <td>NaN</td>\n",
       "      <td>10.000000</td>\n",
       "      <td>NaN</td>\n",
       "      <td>NaN</td>\n",
       "      <td>NaN</td>\n",
       "      <td>NaN</td>\n",
       "      <td>NaN</td>\n",
       "      <td>0.000000</td>\n",
       "      <td>0.000000</td>\n",
       "      <td>40.000000</td>\n",
       "      <td>NaN</td>\n",
       "      <td>NaN</td>\n",
       "    </tr>\n",
       "    <tr>\n",
       "      <th>75%</th>\n",
       "      <td>48.000000</td>\n",
       "      <td>NaN</td>\n",
       "      <td>2.370510e+05</td>\n",
       "      <td>NaN</td>\n",
       "      <td>12.000000</td>\n",
       "      <td>NaN</td>\n",
       "      <td>NaN</td>\n",
       "      <td>NaN</td>\n",
       "      <td>NaN</td>\n",
       "      <td>NaN</td>\n",
       "      <td>0.000000</td>\n",
       "      <td>0.000000</td>\n",
       "      <td>45.000000</td>\n",
       "      <td>NaN</td>\n",
       "      <td>NaN</td>\n",
       "    </tr>\n",
       "    <tr>\n",
       "      <th>max</th>\n",
       "      <td>90.000000</td>\n",
       "      <td>NaN</td>\n",
       "      <td>1.484705e+06</td>\n",
       "      <td>NaN</td>\n",
       "      <td>16.000000</td>\n",
       "      <td>NaN</td>\n",
       "      <td>NaN</td>\n",
       "      <td>NaN</td>\n",
       "      <td>NaN</td>\n",
       "      <td>NaN</td>\n",
       "      <td>99999.000000</td>\n",
       "      <td>4356.000000</td>\n",
       "      <td>99.000000</td>\n",
       "      <td>NaN</td>\n",
       "      <td>NaN</td>\n",
       "    </tr>\n",
       "  </tbody>\n",
       "</table>\n",
       "</div>"
      ],
      "text/plain": [
       "                 age workclass        fnlwgt education  education.num  \\\n",
       "count   32561.000000     30725  3.256100e+04     32561   32561.000000   \n",
       "unique           NaN         8           NaN        16            NaN   \n",
       "top              NaN   Private           NaN   HS-grad            NaN   \n",
       "freq             NaN     22696           NaN     10501            NaN   \n",
       "mean       38.581647       NaN  1.897784e+05       NaN      10.080679   \n",
       "std        13.640433       NaN  1.055500e+05       NaN       2.572720   \n",
       "min        17.000000       NaN  1.228500e+04       NaN       1.000000   \n",
       "25%        28.000000       NaN  1.178270e+05       NaN       9.000000   \n",
       "50%        37.000000       NaN  1.783560e+05       NaN      10.000000   \n",
       "75%        48.000000       NaN  2.370510e+05       NaN      12.000000   \n",
       "max        90.000000       NaN  1.484705e+06       NaN      16.000000   \n",
       "\n",
       "            marital.status      occupation relationship   race    sex  \\\n",
       "count                32561           30718        32561  32561  32561   \n",
       "unique                   7              14            6      5      2   \n",
       "top     Married-civ-spouse  Prof-specialty      Husband  White   Male   \n",
       "freq                 14976            4140        13193  27816  21790   \n",
       "mean                   NaN             NaN          NaN    NaN    NaN   \n",
       "std                    NaN             NaN          NaN    NaN    NaN   \n",
       "min                    NaN             NaN          NaN    NaN    NaN   \n",
       "25%                    NaN             NaN          NaN    NaN    NaN   \n",
       "50%                    NaN             NaN          NaN    NaN    NaN   \n",
       "75%                    NaN             NaN          NaN    NaN    NaN   \n",
       "max                    NaN             NaN          NaN    NaN    NaN   \n",
       "\n",
       "        capital.gain  capital.loss  hours.per.week native.country income  \n",
       "count   32561.000000  32561.000000    32561.000000          31978  32561  \n",
       "unique           NaN           NaN             NaN             41      2  \n",
       "top              NaN           NaN             NaN  United-States  <=50K  \n",
       "freq             NaN           NaN             NaN          29170  24720  \n",
       "mean     1077.648844     87.303830       40.437456            NaN    NaN  \n",
       "std      7385.292085    402.960219       12.347429            NaN    NaN  \n",
       "min         0.000000      0.000000        1.000000            NaN    NaN  \n",
       "25%         0.000000      0.000000       40.000000            NaN    NaN  \n",
       "50%         0.000000      0.000000       40.000000            NaN    NaN  \n",
       "75%         0.000000      0.000000       45.000000            NaN    NaN  \n",
       "max     99999.000000   4356.000000       99.000000            NaN    NaN  "
      ]
     },
     "execution_count": 7,
     "metadata": {},
     "output_type": "execute_result"
    }
   ],
   "source": [
    "#Provides a statistical summary of the data\n",
    "data_df.describe(include='all')"
   ]
  },
  {
   "cell_type": "markdown",
   "metadata": {},
   "source": [
    "## Setup the data for Machine Learning"
   ]
  },
  {
   "cell_type": "code",
   "execution_count": 8,
   "metadata": {
    "collapsed": true
   },
   "outputs": [],
   "source": [
    "#Import scikit-learn and patsy modules\n",
    "from sklearn.linear_model import LogisticRegression\n",
    "from sklearn.ensemble import RandomForestClassifier\n",
    "from sklearn.model_selection import train_test_split, KFold, cross_val_score\n",
    "from sklearn import metrics\n",
    "from patsy import dmatrices"
   ]
  },
  {
   "cell_type": "code",
   "execution_count": 9,
   "metadata": {},
   "outputs": [
    {
     "data": {
      "text/html": [
       "<script>requirejs.config({paths: { 'plotly': ['https://cdn.plot.ly/plotly-latest.min']},});if(!window.Plotly) {{require(['plotly'],function(plotly) {window.Plotly=plotly;});}}</script>"
      ],
      "text/vnd.plotly.v1+html": [
       "<script>requirejs.config({paths: { 'plotly': ['https://cdn.plot.ly/plotly-latest.min']},});if(!window.Plotly) {{require(['plotly'],function(plotly) {window.Plotly=plotly;});}}</script>"
      ]
     },
     "metadata": {},
     "output_type": "display_data"
    }
   ],
   "source": [
    "#Import plotly modules\n",
    "from plotly.offline import download_plotlyjs, init_notebook_mode, plot, iplot\n",
    "import plotly.graph_objs as go\n",
    "\n",
    "init_notebook_mode(connected=True)"
   ]
  },
  {
   "cell_type": "code",
   "execution_count": 10,
   "metadata": {
    "collapsed": true
   },
   "outputs": [],
   "source": [
    "#This function returns model predictions\n",
    "def get_model_predictions(model):   \n",
    "    y_pred_prob = model.predict_proba(X_test) #Obtain class predictions\n",
    "    y_pred_class = model.predict(X_test) #Obtain probability predictions\n",
    "    output_df = pd.DataFrame(y_pred_prob, columns=['Prob Class A', 'Prob Class B'])\n",
    "    output_df['Predicted Class'] = y_pred_class\n",
    "    \n",
    "    return output_df"
   ]
  },
  {
   "cell_type": "code",
   "execution_count": 11,
   "metadata": {
    "collapsed": true
   },
   "outputs": [],
   "source": [
    "#This function plots values of a dataframe\n",
    "def plot_table(df, width, height):\n",
    "    trace = go.Table(\n",
    "        header=dict(values = df.columns,\n",
    "                    line = dict(color='#7D7F80'),\n",
    "                    fill = dict(color='#a1c3d1'),\n",
    "                    align = ['center'] * 5),\n",
    "        cells=dict(values = [df[col] for col in df.columns],\n",
    "                   line = dict(color='#7D7F80'),\n",
    "                   fill = dict(color='#EDFAFF'),\n",
    "                   align = ['center'] * 5))\n",
    "    \n",
    "    layout = dict(width=width, height=height)\n",
    "    fig = dict(data=[trace], layout = layout)\n",
    "    iplot(fig, filename = 'styled_table')"
   ]
  },
  {
   "cell_type": "code",
   "execution_count": 12,
   "metadata": {
    "collapsed": true
   },
   "outputs": [],
   "source": [
    "#This function obtains the formula to construct design matrices\n",
    "def get_formula(dataset_name):\n",
    "    if dataset_name=='adult':\n",
    "        #Set formula to use in dmatrices\n",
    "        formula = 'income ~ -1 + age + workclass + educationnum + maritalstatus + ' + \\\n",
    "                   'occupation + relationship + race + sex + ' + \\\n",
    "                   'capitalgain + capitalloss + hoursperweek + nativecountry'\n",
    "    elif dataset_name=='wine':\n",
    "        #Set formula to use in dmatrices\n",
    "        formula = 'good ~ -1 + fixedacidity + volatileacidity + citricacid + residualsugar + ' + \\\n",
    "                   'chlorides + totalsulfurdioxide + pH + sulphates + alcohol'\n",
    "    \n",
    "    return formula"
   ]
  },
  {
   "cell_type": "code",
   "execution_count": 13,
   "metadata": {},
   "outputs": [],
   "source": [
    "#Rename columns of the dataframe for compatibility with patsy\n",
    "data_df.columns = [col.replace('.','') for col in data_df.columns] "
   ]
  },
  {
   "cell_type": "code",
   "execution_count": 14,
   "metadata": {
    "collapsed": true
   },
   "outputs": [],
   "source": [
    "#Converts column income into an integer\n",
    "data_df[dv[choice_dataset]] = pd.factorize(data_df[dv[choice_dataset]])[0]"
   ]
  },
  {
   "cell_type": "code",
   "execution_count": 15,
   "metadata": {},
   "outputs": [],
   "source": [
    "#Obtain the design matrix for use in the logistic regression and random forests modeling approaches\n",
    "y, X = dmatrices(get_formula(dataset_names[choice_dataset]), data_df, return_type = 'dataframe')"
   ]
  },
  {
   "cell_type": "code",
   "execution_count": 16,
   "metadata": {
    "collapsed": true
   },
   "outputs": [],
   "source": [
    "#The dependent variable needs to be a unidimensional vector rather than a dataframe\n",
    "y = y[dv[choice_dataset]].values"
   ]
  },
  {
   "cell_type": "code",
   "execution_count": 17,
   "metadata": {
    "collapsed": true
   },
   "outputs": [],
   "source": [
    "#Obtain the data for the fitting\n",
    "X_train, X_test, y_train, y_test = train_test_split(X, y, random_state=13, stratify = y)"
   ]
  },
  {
   "cell_type": "markdown",
   "metadata": {},
   "source": [
    "## Machine Learning"
   ]
  },
  {
   "cell_type": "code",
   "execution_count": 18,
   "metadata": {
    "collapsed": true
   },
   "outputs": [],
   "source": [
    "#Creates the model and fits the model to the data\n",
    "LR_model = LogisticRegression().fit(X_train, y_train)\n",
    "RF_model = RandomForestClassifier(n_estimators=10, criterion='gini').fit(X_train, y_train)\n",
    "models = [LR_model, RF_model]"
   ]
  },
  {
   "cell_type": "code",
   "execution_count": 19,
   "metadata": {
    "collapsed": true
   },
   "outputs": [],
   "source": [
    "#Obtain the model predictions (both probabilities and classes in one single dataframe)\n",
    "y_preds = [get_model_predictions(model) for model in models]"
   ]
  },
  {
   "cell_type": "code",
   "execution_count": 20,
   "metadata": {},
   "outputs": [
    {
     "data": {
      "application/vnd.plotly.v1+json": {
       "data": [
        {
         "cells": {
          "align": [
           "center",
           "center",
           "center",
           "center",
           "center"
          ],
          "fill": {
           "color": "#EDFAFF"
          },
          "line": {
           "color": "#7D7F80"
          },
          "values": [
           [
            0.69,
            0.35,
            0.97,
            0.8,
            0.96,
            0.55,
            0.71,
            0.98,
            0.96,
            0.97
           ],
           [
            0.31,
            0.65,
            0.03,
            0.2,
            0.04,
            0.45,
            0.29,
            0.02,
            0.04,
            0.03
           ],
           [
            0,
            1,
            0,
            0,
            0,
            0,
            0,
            0,
            0,
            0
           ]
          ]
         },
         "header": {
          "align": [
           "center",
           "center",
           "center",
           "center",
           "center"
          ],
          "fill": {
           "color": "#a1c3d1"
          },
          "line": {
           "color": "#7D7F80"
          },
          "values": [
           "Prob Class A",
           "Prob Class B",
           "Predicted Class"
          ]
         },
         "type": "table"
        }
       ],
       "layout": {
        "height": 500,
        "width": 500
       }
      },
      "text/html": [
       "<div id=\"d5bcdfd4-191d-44e1-b446-a85478676237\" style=\"height: 500px; width: 500px;\" class=\"plotly-graph-div\"></div><script type=\"text/javascript\">require([\"plotly\"], function(Plotly) { window.PLOTLYENV=window.PLOTLYENV || {};window.PLOTLYENV.BASE_URL=\"https://plot.ly\";Plotly.newPlot(\"d5bcdfd4-191d-44e1-b446-a85478676237\", [{\"type\": \"table\", \"header\": {\"values\": [\"Prob Class A\", \"Prob Class B\", \"Predicted Class\"], \"line\": {\"color\": \"#7D7F80\"}, \"fill\": {\"color\": \"#a1c3d1\"}, \"align\": [\"center\", \"center\", \"center\", \"center\", \"center\"]}, \"cells\": {\"values\": [[0.69, 0.35, 0.97, 0.8, 0.96, 0.55, 0.71, 0.98, 0.96, 0.97], [0.31, 0.65, 0.03, 0.2, 0.04, 0.45, 0.29, 0.02, 0.04, 0.03], [0.0, 1.0, 0.0, 0.0, 0.0, 0.0, 0.0, 0.0, 0.0, 0.0]], \"line\": {\"color\": \"#7D7F80\"}, \"fill\": {\"color\": \"#EDFAFF\"}, \"align\": [\"center\", \"center\", \"center\", \"center\", \"center\"]}}], {\"width\": 500, \"height\": 500}, {\"showLink\": true, \"linkText\": \"Export to plot.ly\"})});</script>"
      ],
      "text/vnd.plotly.v1+html": [
       "<div id=\"d5bcdfd4-191d-44e1-b446-a85478676237\" style=\"height: 500px; width: 500px;\" class=\"plotly-graph-div\"></div><script type=\"text/javascript\">require([\"plotly\"], function(Plotly) { window.PLOTLYENV=window.PLOTLYENV || {};window.PLOTLYENV.BASE_URL=\"https://plot.ly\";Plotly.newPlot(\"d5bcdfd4-191d-44e1-b446-a85478676237\", [{\"type\": \"table\", \"header\": {\"values\": [\"Prob Class A\", \"Prob Class B\", \"Predicted Class\"], \"line\": {\"color\": \"#7D7F80\"}, \"fill\": {\"color\": \"#a1c3d1\"}, \"align\": [\"center\", \"center\", \"center\", \"center\", \"center\"]}, \"cells\": {\"values\": [[0.69, 0.35, 0.97, 0.8, 0.96, 0.55, 0.71, 0.98, 0.96, 0.97], [0.31, 0.65, 0.03, 0.2, 0.04, 0.45, 0.29, 0.02, 0.04, 0.03], [0.0, 1.0, 0.0, 0.0, 0.0, 0.0, 0.0, 0.0, 0.0, 0.0]], \"line\": {\"color\": \"#7D7F80\"}, \"fill\": {\"color\": \"#EDFAFF\"}, \"align\": [\"center\", \"center\", \"center\", \"center\", \"center\"]}}], {\"width\": 500, \"height\": 500}, {\"showLink\": true, \"linkText\": \"Export to plot.ly\"})});</script>"
      ]
     },
     "metadata": {},
     "output_type": "display_data"
    },
    {
     "data": {
      "application/vnd.plotly.v1+json": {
       "data": [
        {
         "cells": {
          "align": [
           "center",
           "center",
           "center",
           "center",
           "center"
          ],
          "fill": {
           "color": "#EDFAFF"
          },
          "line": {
           "color": "#7D7F80"
          },
          "values": [
           [
            0.41,
            0.5,
            1,
            1,
            1,
            0.9,
            0.54,
            1,
            0.99,
            1
           ],
           [
            0.59,
            0.5,
            0,
            0,
            0,
            0.1,
            0.46,
            0,
            0.01,
            0
           ],
           [
            1,
            0,
            0,
            0,
            0,
            0,
            0,
            0,
            0,
            0
           ]
          ]
         },
         "header": {
          "align": [
           "center",
           "center",
           "center",
           "center",
           "center"
          ],
          "fill": {
           "color": "#a1c3d1"
          },
          "line": {
           "color": "#7D7F80"
          },
          "values": [
           "Prob Class A",
           "Prob Class B",
           "Predicted Class"
          ]
         },
         "type": "table"
        }
       ],
       "layout": {
        "height": 500,
        "width": 500
       }
      },
      "text/html": [
       "<div id=\"dab5edda-20f7-49e5-b439-74d298544e63\" style=\"height: 500px; width: 500px;\" class=\"plotly-graph-div\"></div><script type=\"text/javascript\">require([\"plotly\"], function(Plotly) { window.PLOTLYENV=window.PLOTLYENV || {};window.PLOTLYENV.BASE_URL=\"https://plot.ly\";Plotly.newPlot(\"dab5edda-20f7-49e5-b439-74d298544e63\", [{\"type\": \"table\", \"header\": {\"values\": [\"Prob Class A\", \"Prob Class B\", \"Predicted Class\"], \"line\": {\"color\": \"#7D7F80\"}, \"fill\": {\"color\": \"#a1c3d1\"}, \"align\": [\"center\", \"center\", \"center\", \"center\", \"center\"]}, \"cells\": {\"values\": [[0.41, 0.5, 1.0, 1.0, 1.0, 0.9, 0.54, 1.0, 0.99, 1.0], [0.59, 0.5, 0.0, 0.0, 0.0, 0.1, 0.46, 0.0, 0.01, 0.0], [1.0, 0.0, 0.0, 0.0, 0.0, 0.0, 0.0, 0.0, 0.0, 0.0]], \"line\": {\"color\": \"#7D7F80\"}, \"fill\": {\"color\": \"#EDFAFF\"}, \"align\": [\"center\", \"center\", \"center\", \"center\", \"center\"]}}], {\"width\": 500, \"height\": 500}, {\"showLink\": true, \"linkText\": \"Export to plot.ly\"})});</script>"
      ],
      "text/vnd.plotly.v1+html": [
       "<div id=\"dab5edda-20f7-49e5-b439-74d298544e63\" style=\"height: 500px; width: 500px;\" class=\"plotly-graph-div\"></div><script type=\"text/javascript\">require([\"plotly\"], function(Plotly) { window.PLOTLYENV=window.PLOTLYENV || {};window.PLOTLYENV.BASE_URL=\"https://plot.ly\";Plotly.newPlot(\"dab5edda-20f7-49e5-b439-74d298544e63\", [{\"type\": \"table\", \"header\": {\"values\": [\"Prob Class A\", \"Prob Class B\", \"Predicted Class\"], \"line\": {\"color\": \"#7D7F80\"}, \"fill\": {\"color\": \"#a1c3d1\"}, \"align\": [\"center\", \"center\", \"center\", \"center\", \"center\"]}, \"cells\": {\"values\": [[0.41, 0.5, 1.0, 1.0, 1.0, 0.9, 0.54, 1.0, 0.99, 1.0], [0.59, 0.5, 0.0, 0.0, 0.0, 0.1, 0.46, 0.0, 0.01, 0.0], [1.0, 0.0, 0.0, 0.0, 0.0, 0.0, 0.0, 0.0, 0.0, 0.0]], \"line\": {\"color\": \"#7D7F80\"}, \"fill\": {\"color\": \"#EDFAFF\"}, \"align\": [\"center\", \"center\", \"center\", \"center\", \"center\"]}}], {\"width\": 500, \"height\": 500}, {\"showLink\": true, \"linkText\": \"Export to plot.ly\"})});</script>"
      ]
     },
     "metadata": {},
     "output_type": "display_data"
    },
    {
     "data": {
      "text/plain": [
       "[None, None]"
      ]
     },
     "execution_count": 20,
     "metadata": {},
     "output_type": "execute_result"
    }
   ],
   "source": [
    "#Display the predictions for each observation or case\n",
    "[plot_table(np.round(y_pred.head(10),2), 500, 500) for y_pred in y_preds]"
   ]
  },
  {
   "cell_type": "code",
   "execution_count": 21,
   "metadata": {},
   "outputs": [
    {
     "name": "stdout",
     "output_type": "stream",
     "text": [
      "Model Accuracy Score:  0.847632939928\n",
      "Model Accuracy Score:  0.836361225302\n"
     ]
    },
    {
     "data": {
      "text/plain": [
       "[None, None]"
      ]
     },
     "execution_count": 21,
     "metadata": {},
     "output_type": "execute_result"
    }
   ],
   "source": [
    "#Display the accuracy score\n",
    "[print('Model Accuracy Score: ', metrics.accuracy_score(y_test, y_pred['Predicted Class'])) for y_pred in y_preds]"
   ]
  },
  {
   "cell_type": "code",
   "execution_count": 22,
   "metadata": {},
   "outputs": [
    {
     "data": {
      "application/vnd.plotly.v1+json": {
       "data": [
        {
         "cells": {
          "align": [
           "center",
           "center",
           "center",
           "center",
           "center"
          ],
          "fill": {
           "color": "#EDFAFF"
          },
          "line": {
           "color": "#7D7F80"
          },
          "values": [
           [
            "Real Class A",
            "Real Class B"
           ],
           [
            5249,
            734
           ],
           [
            415,
            1143
           ]
          ]
         },
         "header": {
          "align": [
           "center",
           "center",
           "center",
           "center",
           "center"
          ],
          "fill": {
           "color": "#a1c3d1"
          },
          "line": {
           "color": "#7D7F80"
          },
          "values": [
           0,
           "Predicted Class A",
           "Predicted Class B"
          ]
         },
         "type": "table"
        }
       ],
       "layout": {
        "height": 500,
        "width": 650
       }
      },
      "text/html": [
       "<div id=\"1762b02f-48c2-4839-9aba-a9320648948c\" style=\"height: 500px; width: 650px;\" class=\"plotly-graph-div\"></div><script type=\"text/javascript\">require([\"plotly\"], function(Plotly) { window.PLOTLYENV=window.PLOTLYENV || {};window.PLOTLYENV.BASE_URL=\"https://plot.ly\";Plotly.newPlot(\"1762b02f-48c2-4839-9aba-a9320648948c\", [{\"type\": \"table\", \"header\": {\"values\": [0, \"Predicted Class A\", \"Predicted Class B\"], \"line\": {\"color\": \"#7D7F80\"}, \"fill\": {\"color\": \"#a1c3d1\"}, \"align\": [\"center\", \"center\", \"center\", \"center\", \"center\"]}, \"cells\": {\"values\": [[\"Real Class A\", \"Real Class B\"], [5249, 734], [415, 1143]], \"line\": {\"color\": \"#7D7F80\"}, \"fill\": {\"color\": \"#EDFAFF\"}, \"align\": [\"center\", \"center\", \"center\", \"center\", \"center\"]}}], {\"width\": 650, \"height\": 500}, {\"showLink\": true, \"linkText\": \"Export to plot.ly\"})});</script>"
      ],
      "text/vnd.plotly.v1+html": [
       "<div id=\"1762b02f-48c2-4839-9aba-a9320648948c\" style=\"height: 500px; width: 650px;\" class=\"plotly-graph-div\"></div><script type=\"text/javascript\">require([\"plotly\"], function(Plotly) { window.PLOTLYENV=window.PLOTLYENV || {};window.PLOTLYENV.BASE_URL=\"https://plot.ly\";Plotly.newPlot(\"1762b02f-48c2-4839-9aba-a9320648948c\", [{\"type\": \"table\", \"header\": {\"values\": [0, \"Predicted Class A\", \"Predicted Class B\"], \"line\": {\"color\": \"#7D7F80\"}, \"fill\": {\"color\": \"#a1c3d1\"}, \"align\": [\"center\", \"center\", \"center\", \"center\", \"center\"]}, \"cells\": {\"values\": [[\"Real Class A\", \"Real Class B\"], [5249, 734], [415, 1143]], \"line\": {\"color\": \"#7D7F80\"}, \"fill\": {\"color\": \"#EDFAFF\"}, \"align\": [\"center\", \"center\", \"center\", \"center\", \"center\"]}}], {\"width\": 650, \"height\": 500}, {\"showLink\": true, \"linkText\": \"Export to plot.ly\"})});</script>"
      ]
     },
     "metadata": {},
     "output_type": "display_data"
    },
    {
     "data": {
      "application/vnd.plotly.v1+json": {
       "data": [
        {
         "cells": {
          "align": [
           "center",
           "center",
           "center",
           "center",
           "center"
          ],
          "fill": {
           "color": "#EDFAFF"
          },
          "line": {
           "color": "#7D7F80"
          },
          "values": [
           [
            "Real Class A",
            "Real Class B"
           ],
           [
            5208,
            778
           ],
           [
            456,
            1099
           ]
          ]
         },
         "header": {
          "align": [
           "center",
           "center",
           "center",
           "center",
           "center"
          ],
          "fill": {
           "color": "#a1c3d1"
          },
          "line": {
           "color": "#7D7F80"
          },
          "values": [
           0,
           "Predicted Class A",
           "Predicted Class B"
          ]
         },
         "type": "table"
        }
       ],
       "layout": {
        "height": 500,
        "width": 650
       }
      },
      "text/html": [
       "<div id=\"8915ad42-a52e-4c28-a859-fb630a73f863\" style=\"height: 500px; width: 650px;\" class=\"plotly-graph-div\"></div><script type=\"text/javascript\">require([\"plotly\"], function(Plotly) { window.PLOTLYENV=window.PLOTLYENV || {};window.PLOTLYENV.BASE_URL=\"https://plot.ly\";Plotly.newPlot(\"8915ad42-a52e-4c28-a859-fb630a73f863\", [{\"type\": \"table\", \"header\": {\"values\": [0, \"Predicted Class A\", \"Predicted Class B\"], \"line\": {\"color\": \"#7D7F80\"}, \"fill\": {\"color\": \"#a1c3d1\"}, \"align\": [\"center\", \"center\", \"center\", \"center\", \"center\"]}, \"cells\": {\"values\": [[\"Real Class A\", \"Real Class B\"], [5208, 778], [456, 1099]], \"line\": {\"color\": \"#7D7F80\"}, \"fill\": {\"color\": \"#EDFAFF\"}, \"align\": [\"center\", \"center\", \"center\", \"center\", \"center\"]}}], {\"width\": 650, \"height\": 500}, {\"showLink\": true, \"linkText\": \"Export to plot.ly\"})});</script>"
      ],
      "text/vnd.plotly.v1+html": [
       "<div id=\"8915ad42-a52e-4c28-a859-fb630a73f863\" style=\"height: 500px; width: 650px;\" class=\"plotly-graph-div\"></div><script type=\"text/javascript\">require([\"plotly\"], function(Plotly) { window.PLOTLYENV=window.PLOTLYENV || {};window.PLOTLYENV.BASE_URL=\"https://plot.ly\";Plotly.newPlot(\"8915ad42-a52e-4c28-a859-fb630a73f863\", [{\"type\": \"table\", \"header\": {\"values\": [0, \"Predicted Class A\", \"Predicted Class B\"], \"line\": {\"color\": \"#7D7F80\"}, \"fill\": {\"color\": \"#a1c3d1\"}, \"align\": [\"center\", \"center\", \"center\", \"center\", \"center\"]}, \"cells\": {\"values\": [[\"Real Class A\", \"Real Class B\"], [5208, 778], [456, 1099]], \"line\": {\"color\": \"#7D7F80\"}, \"fill\": {\"color\": \"#EDFAFF\"}, \"align\": [\"center\", \"center\", \"center\", \"center\", \"center\"]}}], {\"width\": 650, \"height\": 500}, {\"showLink\": true, \"linkText\": \"Export to plot.ly\"})});</script>"
      ]
     },
     "metadata": {},
     "output_type": "display_data"
    },
    {
     "data": {
      "text/plain": [
       "[None, None]"
      ]
     },
     "execution_count": 22,
     "metadata": {},
     "output_type": "execute_result"
    }
   ],
   "source": [
    "#Obtains and displays the confusion matrix\n",
    "cms = [metrics.confusion_matrix(y_test, np.array(y_pred['Predicted Class'])) for y_pred in y_preds]\n",
    "cms_df = [pd.DataFrame(cm, columns = ['Predicted Class A','Predicted Class B']) for cm in cms]\n",
    "cms_df = [pd.concat([pd.DataFrame(['Real Class A', 'Real Class B']), cm_df], axis=1) for cm_df in cms_df]\n",
    "[plot_table(cm_df,650,500) for cm_df in cms_df]"
   ]
  },
  {
   "cell_type": "code",
   "execution_count": 23,
   "metadata": {},
   "outputs": [
    {
     "name": "stdout",
     "output_type": "stream",
     "text": [
      "Cross Validation Score:  0.846793875378\n",
      "Cross Validation Score:  0.840925834506\n"
     ]
    },
    {
     "data": {
      "text/plain": [
       "[None, None]"
      ]
     },
     "execution_count": 23,
     "metadata": {},
     "output_type": "execute_result"
    }
   ],
   "source": [
    "#KFolds and displays cross validation scores\n",
    "kf = KFold(n_splits=10, shuffle=True)\n",
    "[print('Cross Validation Score: ', cross_val_score(model, X, y, cv=kf).mean()) for model in models]"
   ]
  }
 ],
 "metadata": {
  "anaconda-cloud": {},
  "kernelspec": {
   "display_name": "Python 3",
   "language": "python",
   "name": "python3"
  },
  "language_info": {
   "codemirror_mode": {
    "name": "ipython",
    "version": 3
   },
   "file_extension": ".py",
   "mimetype": "text/x-python",
   "name": "python",
   "nbconvert_exporter": "python",
   "pygments_lexer": "ipython3",
   "version": "3.6.4"
  },
  "nbpresent": {
   "slides": {
    "8ce21dab-2b7a-439c-8f0a-8a1036a1ac0d": {
     "id": "8ce21dab-2b7a-439c-8f0a-8a1036a1ac0d",
     "prev": null,
     "regions": {
      "d8401624-efe9-4853-a676-de863b4ba3cd": {
       "attrs": {
        "height": 1,
        "width": 1,
        "x": 0,
        "y": 0
       },
       "id": "d8401624-efe9-4853-a676-de863b4ba3cd"
      }
     },
     "theme": null
    }
   },
   "themes": {}
  }
 },
 "nbformat": 4,
 "nbformat_minor": 1
}
